{
 "cells": [
  {
   "cell_type": "code",
   "execution_count": 1,
   "metadata": {},
   "outputs": [
    {
     "name": "stderr",
     "output_type": "stream",
     "text": [
      "C:\\Users\\dsloetto\\AppData\\Local\\Continuum\\anaconda3\\lib\\site-packages\\h5py\\__init__.py:36: FutureWarning: Conversion of the second argument of issubdtype from `float` to `np.floating` is deprecated. In future, it will be treated as `np.float64 == np.dtype(float).type`.\n",
      "  from ._conv import register_converters as _register_converters\n",
      "Using TensorFlow backend.\n"
     ]
    }
   ],
   "source": [
    "import numpy as np\n",
    "from nalu import NALU"
   ]
  },
  {
   "cell_type": "code",
   "execution_count": 2,
   "metadata": {},
   "outputs": [],
   "source": [
    "data = open('cnn.txt', 'r').read()\n",
    "chars = list(set(data)) #set = get unique values\n",
    "VOCAB_SIZE = len(chars)"
   ]
  },
  {
   "cell_type": "code",
   "execution_count": 3,
   "metadata": {},
   "outputs": [
    {
     "name": "stdout",
     "output_type": "stream",
     "text": [
      "chars:\n",
      "['B', '2', 'R', '+', 'z', 'j', '?', 'Y', ':', 'Ç', 'I', '”', 'ï', 'V', 'C', 't', 'Z', 'e', 'l', '.', 'í', 'K', '•', ')', 'X', ']', '5', 'x', '&', 'H', ';', 'P', 'c', 'v', 'T', '\"', 'S', 'O', '$', 'ö', 'g', 'y', '0', 'A', '8', '3', 'd', 'F', 'u', 'k', 'm', 'q', 'é', 'f', 'G', 'D', 'à', 'ó', 'w', 'o', 'ñ', 'N', '9', 'L', '_', '1', '(', '@', 'n', '|', 'p', '’', '6', 'W', '–', 'ü', 'r', '“', '—', '%', '/', '-', ' ', 'U', '[', ',', 'J', '4', 'E', 'Q', 's', 'i', 'b', '7', 'a', 'h', \"'\", '\\n', '!', 'M']\n",
      "\n",
      "VOCAB_SIZE: 100\n"
     ]
    }
   ],
   "source": [
    "print('chars:\\n{}\\n\\nVOCAB_SIZE: {}'.format(chars, VOCAB_SIZE))"
   ]
  },
  {
   "cell_type": "code",
   "execution_count": 4,
   "metadata": {},
   "outputs": [],
   "source": [
    "idx_to_char = {i:char for i, char in enumerate(chars)}\n",
    "char_to_idx = {char:i for i, char in enumerate(chars)}"
   ]
  },
  {
   "cell_type": "code",
   "execution_count": 5,
   "metadata": {},
   "outputs": [],
   "source": [
    "SEQ_LENGTH = 60 #input sequence length\n",
    "N_FEATURES = VOCAB_SIZE  # For 1 hot encoding\n",
    "N_SEQ = int(np.floor((len(data) - 1)/SEQ_LENGTH))\n",
    "\n",
    "X = np.zeros((N_SEQ, SEQ_LENGTH, N_FEATURES))\n",
    "y = np.zeros((N_SEQ, SEQ_LENGTH, N_FEATURES))\n",
    "\n",
    "for i in range(N_SEQ):\n",
    "    x_sequence = data[i * SEQ_LENGTH: (i+1) * SEQ_LENGTH]\n",
    "    x_sequence_ix = [char_to_idx[c] for c in x_sequence]\n",
    "    input_sequence = np.zeros((SEQ_LENGTH, N_FEATURES))\n",
    "    for j in range(SEQ_LENGTH):\n",
    "        input_sequence[j][x_sequence_ix[j]] = 1. # One hot encoding\n",
    "    X[i] = input_sequence\n",
    "    \n",
    "    y_sequence = data[i * SEQ_LENGTH + 1: (i + 1) * SEQ_LENGTH + 1] # shifted 1 to the right\n",
    "    y_sequence_ix = [char_to_idx[c] for c in y_sequence]\n",
    "    target_sequence = np.zeros((SEQ_LENGTH, N_FEATURES))\n",
    "    for j in range(SEQ_LENGTH):\n",
    "        target_sequence[j][y_sequence_ix[j]] = 1. #again, one hot encoding\n",
    "    y[i] = target_sequence"
   ]
  },
  {
   "cell_type": "code",
   "execution_count": 6,
   "metadata": {},
   "outputs": [],
   "source": [
    "from  keras.models import Sequential\n",
    "from keras.layers import LSTM, TimeDistributed, Dense, Activation\n",
    "\n",
    "# try CuDNNLSTM on gpu"
   ]
  },
  {
   "cell_type": "code",
   "execution_count": 9,
   "metadata": {},
   "outputs": [],
   "source": [
    "HIDDEN_DIM = 70 \n",
    "LAYER_NUM = 2\n",
    "NB_EPOCHS = 200\n",
    "BATCH_SIZE = 128\n",
    "VAL_SPLIT = 0.1\n",
    "\n",
    "model = Sequential()\n",
    "model.add(LSTM(HIDDEN_DIM,\n",
    "               input_shape=(None, VOCAB_SIZE),\n",
    "               return_sequences = True))\n",
    "\n",
    "for _ in range(LAYER_NUM - 1):\n",
    "    model.add(LSTM(HIDDEN_DIM, return_sequences=True))\n",
    "model.add(TimeDistributed(Dense(VOCAB_SIZE)))\n",
    "#model.add(Activation('NULA'))\n",
    "model.add(Activation('relu'))\n",
    "model.compile(loss='categorical_crossentropy', optimizer='rmsprop', metrics=['acc'])"
   ]
  },
  {
   "cell_type": "code",
   "execution_count": 10,
   "metadata": {},
   "outputs": [],
   "source": [
    "def generate_text(model, length):\n",
    "  ix = [np.random.randint(VOCAB_SIZE)]\n",
    "  y_char = [idx_to_char[ix[-1]]]\n",
    "  X = np.zeros((1, length, VOCAB_SIZE))\n",
    "  for i in range(length):\n",
    "    X[0, i, :][ix[-1]] = 1.\n",
    "    ix = np.argmax(model.predict(X[:, :i+1,:])[0], 1)\n",
    "    y_char.append(idx_to_char[ix[-1]])\n",
    "  return ''.join(y_char)"
   ]
  },
  {
   "cell_type": "code",
   "execution_count": 11,
   "metadata": {},
   "outputs": [],
   "source": [
    "from keras.callbacks import EarlyStopping, ModelCheckpoint, Callback\n",
    "# callback to save the model if better\n",
    "filepath=\"tgt_model.hdf5\"\n",
    "save_model_cb = ModelCheckpoint(filepath, monitor='val_acc', verbose=1, save_best_only=True, mode='max')\n",
    "# callback to stop the training if no improvement\n",
    "early_stopping_cb = EarlyStopping(monitor='val_loss', patience=0)\n",
    "# callback to generate text at epoch end\n",
    "class generateText(Callback):\n",
    "    def on_epoch_end(self, batch, logs={}):\n",
    "        print(generate_text(self.model, 100))\n",
    "        \n",
    "generate_text_cb = generateText()\n",
    "\n",
    "callbacks_list = [save_model_cb, early_stopping_cb, generate_text_cb]"
   ]
  },
  {
   "cell_type": "code",
   "execution_count": 12,
   "metadata": {},
   "outputs": [
    {
     "name": "stdout",
     "output_type": "stream",
     "text": [
      "Train on 3656 samples, validate on 407 samples\n",
      "Epoch 1/200\n",
      "3656/3656 [==============================] - 8s 2ms/step - loss: 4.2127 - acc: 0.1146 - val_loss: 3.6082 - val_acc: 0.1572\n",
      "\n",
      "Epoch 00001: val_acc improved from -inf to 0.15725, saving model to tgt_model.hdf5\n",
      "L\n",
      "\n",
      "e                                                                                                 \n",
      "Epoch 2/200\n",
      "3656/3656 [==============================] - 7s 2ms/step - loss: 3.5485 - acc: 0.1614 - val_loss: 3.4456 - val_acc: 0.1588\n",
      "\n",
      "Epoch 00002: val_acc improved from 0.15725 to 0.15880, saving model to tgt_model.hdf5\n",
      "o                                                                                                    \n",
      "Epoch 3/200\n",
      "3656/3656 [==============================] - 7s 2ms/step - loss: 3.4415 - acc: 0.1618 - val_loss: 3.3914 - val_acc: 0.1590\n",
      "\n",
      "Epoch 00003: val_acc improved from 0.15880 to 0.15897, saving model to tgt_model.hdf5\n",
      "]                                                                                                    \n",
      "Epoch 4/200\n",
      "3656/3656 [==============================] - 7s 2ms/step - loss: 3.3922 - acc: 0.1618 - val_loss: 3.3402 - val_acc: 0.1590\n",
      "\n",
      "Epoch 00004: val_acc did not improve from 0.15897\n",
      "%                                                                                                    \n",
      "Epoch 5/200\n",
      "3656/3656 [==============================] - 7s 2ms/step - loss: 3.3481 - acc: 0.1618 - val_loss: 3.2932 - val_acc: 0.1590\n",
      "\n",
      "Epoch 00005: val_acc did not improve from 0.15897\n",
      "Z                                                                                                    \n",
      "Epoch 6/200\n",
      "3656/3656 [==============================] - 7s 2ms/step - loss: 3.2952 - acc: 0.1618 - val_loss: 3.2624 - val_acc: 0.1588\n",
      "\n",
      "Epoch 00006: val_acc did not improve from 0.15897\n",
      "K   e   e      e          e                                                                          \n",
      "Epoch 7/200\n",
      "3656/3656 [==============================] - 8s 2ms/step - loss: 3.2596 - acc: 0.1622 - val_loss: 3.2189 - val_acc: 0.1603\n",
      "\n",
      "Epoch 00007: val_acc improved from 0.15897 to 0.16032, saving model to tgt_model.hdf5\n",
      "k  e e  e e  e  e  e  e  e  e  e  e  e  e  e  e  e  e  e  e  e  e  e  e  e  e  e  e  e  e  e  e  e  e\n",
      "Epoch 8/200\n",
      "3656/3656 [==============================] - 8s 2ms/step - loss: 3.2167 - acc: 0.1644 - val_loss: 3.1732 - val_acc: 0.1674\n",
      "\n",
      "Epoch 00008: val_acc improved from 0.16032 to 0.16744, saving model to tgt_model.hdf5\n",
      "W e ae  ae  ee  ae  ee  ee  ee  ee  ee  ee  ee  ee  ee  ee  ee  ee  ee  ee  ee  ee  ee  ee  ee  ee  e\n",
      "Epoch 9/200\n",
      "3656/3656 [==============================] - 8s 2ms/step - loss: 3.1657 - acc: 0.1793 - val_loss: 3.1291 - val_acc: 0.1841\n",
      "\n",
      "Epoch 00009: val_acc improved from 0.16744 to 0.18407, saving model to tgt_model.hdf5\n",
      "8 ae te a at e a at e a at e a at e a at e a at e a at e a at e a at e a at e a at e a at e a at e a \n",
      "Epoch 10/200\n",
      "3656/3656 [==============================] - 8s 2ms/step - loss: 3.1199 - acc: 0.1956 - val_loss: 3.0984 - val_acc: 0.1984\n",
      "\n",
      "Epoch 00010: val_acc improved from 0.18407 to 0.19836, saving model to tgt_model.hdf5\n",
      "L ae at ee ra at ee te a te a te a te a te at e at e at e at e at e at e at e at e at e at e at e at \n",
      "Epoch 11/200\n",
      "3656/3656 [==============================] - 7s 2ms/step - loss: 3.0862 - acc: 0.2053 - val_loss: 3.0594 - val_acc: 0.2047\n",
      "\n",
      "Epoch 00011: val_acc improved from 0.19836 to 0.20467, saving model to tgt_model.hdf5\n",
      "í aan te at e at et he at e at et he at et he at et he at et he at et he at et he at et he at et he a\n",
      "Epoch 12/200\n",
      "3656/3656 [==============================] - 8s 2ms/step - loss: 3.0707 - acc: 0.2111 - val_loss: 3.0318 - val_acc: 0.2119\n",
      "\n",
      "Epoch 00012: val_acc improved from 0.20467 to 0.21188, saving model to tgt_model.hdf5\n",
      "V ate at ot ot o te at ot ot ot ot ot ot ot ot ot ot ot ot ot ot ot ot ot ot ot ot ot ot ot ot ot ot \n",
      "Epoch 13/200\n",
      "3656/3656 [==============================] - 7s 2ms/step - loss: 3.0337 - acc: 0.2165 - val_loss: 3.0044 - val_acc: 0.2168\n",
      "\n",
      "Epoch 00013: val_acc improved from 0.21188 to 0.21679, saving model to tgt_model.hdf5\n",
      "y an at ot ot o at ot ot ot ot ot ot ot ot ot ot ot ot ot ot ot ot ot ot ot ot ot ot ot ot ot ot ot o\n",
      "Epoch 14/200\n",
      "3656/3656 [==============================] - 8s 2ms/step - loss: 3.0011 - acc: 0.2208 - val_loss: 2.9878 - val_acc: 0.2248\n",
      "\n",
      "Epoch 00014: val_acc improved from 0.21679 to 0.22477, saving model to tgt_model.hdf5\n",
      "l an at an at an an at an an at an an at an an at an an at an an at an an at an an at an an at an an \n",
      "Epoch 15/200\n",
      "3656/3656 [==============================] - 7s 2ms/step - loss: 2.9769 - acc: 0.2268 - val_loss: 2.9736 - val_acc: 0.2222\n",
      "\n",
      "Epoch 00015: val_acc did not improve from 0.22477\n",
      "• an at at an at an at an at an at an at an at an at an at an at an at an at an at an at an at an at \n",
      "Epoch 16/200\n",
      "3656/3656 [==============================] - 7s 2ms/step - loss: 2.9749 - acc: 0.2262 - val_loss: 2.9750 - val_acc: 0.2224\n",
      "\n",
      "Epoch 00016: val_acc did not improve from 0.22477\n",
      "— an at an at an at an at an at an at an at an at an at an at an at an at an at an at an at an at an \n"
     ]
    },
    {
     "data": {
      "text/plain": [
       "<keras.callbacks.History at 0x1b0fca8e550>"
      ]
     },
     "execution_count": 12,
     "metadata": {},
     "output_type": "execute_result"
    }
   ],
   "source": [
    "model.fit(X, y, batch_size=BATCH_SIZE, verbose=1, epochs=NB_EPOCHS, callbacks=callbacks_list, validation_split=VAL_SPLIT)"
   ]
  },
  {
   "cell_type": "code",
   "execution_count": 13,
   "metadata": {},
   "outputs": [],
   "source": [
    "from keras.models import load_model\n",
    "filepath=\"tgt_model.hdf5\"\n",
    "model = load_model(filepath)"
   ]
  },
  {
   "cell_type": "code",
   "execution_count": 14,
   "metadata": {},
   "outputs": [
    {
     "data": {
      "text/plain": [
       "'ïe an at an at an an at an an at an an at an an at an an at an an at an an at an an at an an at an an'"
      ]
     },
     "execution_count": 14,
     "metadata": {},
     "output_type": "execute_result"
    }
   ],
   "source": [
    "generate_text(model, 100)"
   ]
  },
  {
   "cell_type": "code",
   "execution_count": null,
   "metadata": {},
   "outputs": [],
   "source": []
  }
 ],
 "metadata": {
  "kernelspec": {
   "display_name": "Python 3",
   "language": "python",
   "name": "python3"
  },
  "language_info": {
   "codemirror_mode": {
    "name": "ipython",
    "version": 3
   },
   "file_extension": ".py",
   "mimetype": "text/x-python",
   "name": "python",
   "nbconvert_exporter": "python",
   "pygments_lexer": "ipython3",
   "version": "3.6.5"
  }
 },
 "nbformat": 4,
 "nbformat_minor": 2
}
