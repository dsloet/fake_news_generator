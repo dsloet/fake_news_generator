{
 "cells": [
  {
   "cell_type": "code",
   "execution_count": 1,
   "metadata": {},
   "outputs": [],
   "source": [
    "#!pip install markovify\n",
    "import markovify\n",
    "import json"
   ]
  },
  {
   "cell_type": "code",
   "execution_count": 4,
   "metadata": {},
   "outputs": [],
   "source": [
    "with open('data2.txt', 'r') as f:\n",
    "    text = f.read()"
   ]
  },
  {
   "cell_type": "code",
   "execution_count": 3,
   "metadata": {},
   "outputs": [],
   "source": [
    "text_model = markovify.Text(text, state_size=2)"
   ]
  },
  {
   "cell_type": "code",
   "execution_count": 3,
   "metadata": {},
   "outputs": [
    {
     "ename": "NameError",
     "evalue": "name 'text_model' is not defined",
     "output_type": "error",
     "traceback": [
      "\u001b[1;31m---------------------------------------------------------------------------\u001b[0m",
      "\u001b[1;31mNameError\u001b[0m                                 Traceback (most recent call last)",
      "\u001b[1;32m<ipython-input-3-eab0af0deb09>\u001b[0m in \u001b[0;36m<module>\u001b[1;34m()\u001b[0m\n\u001b[1;32m----> 1\u001b[1;33m \u001b[0mmodel_json\u001b[0m \u001b[1;33m=\u001b[0m \u001b[0mtext_model\u001b[0m\u001b[1;33m.\u001b[0m\u001b[0mto_json\u001b[0m\u001b[1;33m(\u001b[0m\u001b[1;33m)\u001b[0m\u001b[1;33m\u001b[0m\u001b[0m\n\u001b[0m",
      "\u001b[1;31mNameError\u001b[0m: name 'text_model' is not defined"
     ]
    }
   ],
   "source": [
    "model_json = text_model.to_json()"
   ]
  },
  {
   "cell_type": "code",
   "execution_count": 6,
   "metadata": {},
   "outputs": [],
   "source": [
    "#text_model = markovify.Text(text)\n",
    "\n",
    "#text_model = markovify.Text(text, state_size=3)\n",
    "#model_json = text_model.to_json()\n",
    "with open('corpus_json.txt', 'w') as outfile:  \n",
    "    json.dump(model_json, outfile)\n",
    "\n"
   ]
  },
  {
   "cell_type": "code",
   "execution_count": 2,
   "metadata": {},
   "outputs": [
    {
     "ename": "NameError",
     "evalue": "name 'model_json' is not defined",
     "output_type": "error",
     "traceback": [
      "\u001b[1;31m---------------------------------------------------------------------------\u001b[0m",
      "\u001b[1;31mNameError\u001b[0m                                 Traceback (most recent call last)",
      "\u001b[1;32m<ipython-input-2-0a30550c1b21>\u001b[0m in \u001b[0;36m<module>\u001b[1;34m()\u001b[0m\n\u001b[1;32m----> 1\u001b[1;33m \u001b[0mreconstituted_model\u001b[0m \u001b[1;33m=\u001b[0m \u001b[0mmarkovify\u001b[0m\u001b[1;33m.\u001b[0m\u001b[0mText\u001b[0m\u001b[1;33m.\u001b[0m\u001b[0mfrom_json\u001b[0m\u001b[1;33m(\u001b[0m\u001b[0mmodel_json\u001b[0m\u001b[1;33m)\u001b[0m\u001b[1;33m\u001b[0m\u001b[0m\n\u001b[0m\u001b[0;32m      2\u001b[0m \u001b[0mreconstituted_model\u001b[0m\u001b[1;33m.\u001b[0m\u001b[0mmake_short_sentence\u001b[0m\u001b[1;33m(\u001b[0m\u001b[1;36m140\u001b[0m\u001b[1;33m)\u001b[0m\u001b[1;33m\u001b[0m\u001b[0m\n",
      "\u001b[1;31mNameError\u001b[0m: name 'model_json' is not defined"
     ]
    }
   ],
   "source": [
    "reconstituted_model = markovify.Text.from_json(model_json)\n",
    "reconstituted_model.make_short_sentence(140)"
   ]
  },
  {
   "cell_type": "code",
   "execution_count": null,
   "metadata": {},
   "outputs": [],
   "source": [
    "for i in range(10):\n",
    "    print(text_model.make_sentence())"
   ]
  },
  {
   "cell_type": "code",
   "execution_count": 10,
   "metadata": {},
   "outputs": [],
   "source": [
    "text2 = [\"There was no Kevin Millar on hand first to acknowledge new evidence that concerns have created loses, and grievances and ask whether Russia was for him.\"]"
   ]
  },
  {
   "cell_type": "code",
   "execution_count": null,
   "metadata": {},
   "outputs": [],
   "source": [
    "text_model.make_sentence_with_start(\"Given\")"
   ]
  },
  {
   "cell_type": "code",
   "execution_count": null,
   "metadata": {},
   "outputs": [],
   "source": [
    "text_model.make_short_sentence(140)"
   ]
  },
  {
   "cell_type": "code",
   "execution_count": 5,
   "metadata": {},
   "outputs": [],
   "source": [
    "import markovify\n",
    "import nltk\n",
    "import re\n",
    "\n",
    "class POSifiedText(markovify.Text):\n",
    "    def word_split(self, sentence):\n",
    "        words = re.split(self.word_split_pattern, sentence)\n",
    "        words = [ \"::\".join(tag) for tag in nltk.pos_tag(words) ]\n",
    "        return words\n",
    "\n",
    "    def word_join(self, words):\n",
    "        sentence = \" \".join(word.split(\"::\")[0] for word in words)\n",
    "        return sentence"
   ]
  },
  {
   "cell_type": "code",
   "execution_count": 6,
   "metadata": {},
   "outputs": [],
   "source": [
    "text3 = POSifiedText(text)"
   ]
  },
  {
   "cell_type": "code",
   "execution_count": 7,
   "metadata": {},
   "outputs": [
    {
     "data": {
      "text/plain": [
       "'In Mike Molly, too, wine is better than the United States, but the damage caused to her early thirties.'"
      ]
     },
     "execution_count": 7,
     "metadata": {},
     "output_type": "execute_result"
    }
   ],
   "source": [
    "text3.make_sentence()\n"
   ]
  },
  {
   "cell_type": "code",
   "execution_count": 8,
   "metadata": {},
   "outputs": [],
   "source": [
    "text_list = []\n",
    "for i in range(100):\n",
    "    text_list.append(text3.make_short_sentence(240))"
   ]
  },
  {
   "cell_type": "code",
   "execution_count": 9,
   "metadata": {},
   "outputs": [
    {
     "data": {
      "text/plain": [
       "['*** A brief explanation Title IX had “controlling weight” in the wake of November’s election.',\n",
       " '” That’s why nobody goes up there with you,” said Devin Tomb, deputy editor in chief, Jeffrey Goldberg, earlier this month, looks slimmer this spring the group had shredded the walls and white tile floors.',\n",
       " '“I don’t want to do better would be transferred to a specific type of moral and legal concerns over Erdogan’s crackdown on press for “sensationalising” the number of people who are black, who are under attack.',\n",
       " '” But he never cops to the medium and genre he touched down, the Miami Heat, who finished with 52 percent.',\n",
       " 'We’d suggest the depth of its public space.',\n",
       " 'The nature of the waterparks big in November.',\n",
       " 'In several polls, Trump and break and took off in a vehicle and trying to fend off a bus by the FBI said they would force inspections on all other candidates from Ivy League law school.',\n",
       " 'But no one is claiming that Hammond is accused of misusing about $200 per month.',\n",
       " 'The manager did not provide any detail on when it played out.',\n",
       " 'There is no getting around the US, I would wear a headscarf and practiced comments.',\n",
       " 'Many returned to London will not explain who Britney Spears interview, South Park, the show.',\n",
       " 'Most of what constitutes a flagrant foul in Indiana.',\n",
       " 'Shah Hussain Murtazawi, deputy spokesman for the entire campaign last week, mostly in the vehicle,” Gorsuch said these things.',\n",
       " 'I will not confirm the suspects later told a mostly forgettable draw after 42 years, the current president.',\n",
       " 'Matthew Herrick, a New York Times, the noted that Hunter really would have gone to Mars.',\n",
       " 'Here are four pass rushers were taken out ads in the US ought to be transgender.',\n",
       " 'Trevor knows the things we’ve implemented is now fully restored.',\n",
       " '“It would be edited out of operations knows, but doing effectively nothing.',\n",
       " 'Remember, Geno Smith and Wesson 9mm handgun, according to researchers others are given tax exemptions into nonrefundable tax credits.',\n",
       " '“I saw the downside of trust for a ‘Calexit’ break from the away team’s best player.',\n",
       " 'For me, this is exhibit A to be this lucky protection from contamination.',\n",
       " 'They dream of meeting de Blasio’s top campaign fundraiser that he repeatedly failed to recover the volume, and then signed a letter about yourself.',\n",
       " '” The LAPD said a tipster alerted the police, headlines, and before the deadline, but saw few choices when they won four — jihadists are.,Omar Mateen, the alleged rape will probably not working now’,” she said.',\n",
       " 'Though the Republican Party, will be forgiven if you had three occupants who abandoned him when the ransom is paid.',\n",
       " 'That a pharmacy and see its mate visit the are children all across L. A. Clippers owner Donald Sterling found himself in a statement.',\n",
       " 'What’s more surprising was how the divide even think.',\n",
       " 'So, in terms of his life back into a racial division and burnout, and realizing for one in Yemen and gunned down in 2010, 2014, now has leverage If Tiah, or any single politician — even as he patrolled the sky.',\n",
       " 'And that’s why I’m writing in Scrivener you export the results any better than they do have one member, Justin Amash responded even more popularly, its huge testicles.',\n",
       " 'Ostensibly, this tag was that attempts, which Clinton lost by one of its kind, scientists recruited to bring you amazing value on content for newsworthiness, according to the first place anyone died under mysterious circumstances.',\n",
       " '“If you were on the Right.',\n",
       " 'The chief villain of the chairman of the companies or groups or funding hardcore pornography.',\n",
       " 'She was named publisher of TalkingPointsMemo. com.',\n",
       " 'While Time Inc. stock touched $180 on Feb 2, 2016.',\n",
       " '“We have a lot of these massive ships come in, in Texas this month.',\n",
       " 'Or a proper declaration of war in which they would ignore the plurality in most math classes since the second time and considered her role that faith is practical.',\n",
       " '” It sounds like a kid — with renewable sources by 2030.',\n",
       " 'I’m grateful for Bernie Sanders.',\n",
       " '”Carson plans to untie themselves from labels, their behavior and largely eliminates Obamacare’s reductions during the writing, their names to social media, with thousands of people actually want their children before they leave.',\n",
       " 'The Yankees surely contend the biggest municipal bankruptcy in 2015.',\n",
       " '“Asia for the and ship, and there has to end up relying more heavily on trade are married to a U. S. history.',\n",
       " 'The hackers were carrying at least 1969, when he described as “positive.',\n",
       " 'The rectangular tower, which is designed to move to the president at went for Trump and President Barack Obama.',\n",
       " 'Wiley probably views his job back.',\n",
       " '“Eddy thought she’d look a lot of CGI wonder, such as Medicaid.',\n",
       " 'While Kerry’s visit was just tapped to lead.',\n",
       " '” Breyer’s anxiety suggests that this blonde bombshell from New York.',\n",
       " 'Most well known to Icelanders as a form of borrowing, or both.',\n",
       " '”The Giants reportedly have many side effects.',\n",
       " 'And while the uninsured rate — accompanied, it must communicate to, for instance?',\n",
       " 'Álvaro Morata is expected to meet real needs and it was time for us on Saturday.',\n",
       " 'The media are so many fields — or, perhaps, why Biden is the seemingly endless explosion of books in general.',\n",
       " '“I bought that wine?',\n",
       " 'But there’s a Chili’s.',\n",
       " 'The local coroner has filed paperwork to run for president, the EPA make a gain of 30 plan to do given that social mores is weakness.',\n",
       " 'The aides have offered him.',\n",
       " '“It was kind of boasting and negging that Drake has spun on a naval base in six countries have always fought against.',\n",
       " 'Rosas was one look at the Republican nominee suggested that Mexico will play out,” Baker says, referring to a better understanding and empathy.',\n",
       " '’Part of the party has nominated someone who’s a great place to another Brennan report.',\n",
       " 'Hearings for Engel and Rubinstein were scheduled in such demand that the millions of dollars into a bone.',\n",
       " '“I wasn’t elected then,” Gines said, stressing that they vote on Election Day.',\n",
       " '” Tiny was generally not much of the Vaccine Education Center at Suffolk Superior Court.',\n",
       " '“North Korean nationals working as a senior adviser, said on Friday.',\n",
       " 'He was present while paying up encourages hackers to obtain a refund if they used to follow its example.',\n",
       " 'What are some noteworthy ones.',\n",
       " 'Instead of happening at the ballot when Obama took 17 months old when Kristin Livan, vice president of the vice president whether he agreed to stay in for three years.',\n",
       " 'Thompson At the time, Trump said Tuesday the charges by arguing that his brand of maddening, hilariously rude repartee met Clinton while she sees me in any doubt that Trump, soon to the smell and taste some are even more so.',\n",
       " 'Over 100 looks walked the earth in the country you call that is in action.',\n",
       " 'The show’s not broken but denied he was a dog whistle, one signaling that America, its values, and shared with BuzzFeed News.',\n",
       " 'Obama said during a test to make that choice.',\n",
       " 'I believe that the path forward for internet users calling on Israel and Palestine, have attempted to interview him were “I found the wreckage.',\n",
       " 'And when those efforts and to clear the way Clinton and members of the U. S. has long been a clear example is the interview that the brain called the princess a blessing, one closely linked with cancer, so Horton has set up by force.',\n",
       " 'It may seem amazing that somebody has been viewed so widely publicized.',\n",
       " '”A Florida man from Mars.',\n",
       " 'This situation seemed to have gone to the community.',\n",
       " 'Because the Fed’s critics say, and the genre started to curb the impulse for big bucks on a couple.',\n",
       " 'Cancer arises when the percentage who disapproved of Trump’s twitter rant by Hitler during his Montana getaway, may have fallen 32% lower.',\n",
       " 'But with Clinton accusing him of threatening a return to a big deal indeed.',\n",
       " 'We learned a lot will be protected under the Federal Reserve is obviously tough,” Porzingis said.',\n",
       " 'He knew the words ‘liberty’ and ‘equal protection of the show handles them in the building in slow motion.',\n",
       " '”You cannot run for governor of New York, what I think he lost his position by embracing the movement with few exceptions.',\n",
       " 'If Apple’s revenue and prime costs.',\n",
       " 'In February, Cuba and the police department they need is Ellsbury to tie his shoes, and that the test of the four weeks in St. Louis for the Senate Intelligence Committee as to where he was born to them, learning from a classic example.',\n",
       " 'King is complete, and so on down there?',\n",
       " 'The president will want to deport 10 million vapers.',\n",
       " 'The sharp increase in people with disabilities was more than 100 impassioned comments since leaving Fox News, and are now largely over, though there is plenty of eggplants.’',\n",
       " 'And the homework process.',\n",
       " 'So you’re left with the adopted emblem of rising in prominence, also catering to white folks.',\n",
       " 'I want a vacation, and at its best.',\n",
       " 'Maybe you’re ? Trump said.',\n",
       " 'She answered the phone itself was not some guy in the trunk.',\n",
       " 'I play a part of Texan comfortable in his front door, that have plagued Stockman since his election.',\n",
       " 'In refusing to allow providers to protect national security policy determinations with respect to that effect.',\n",
       " 'Couch himself says he will have the fewest points all season, and we’ve got to my parents.',\n",
       " 'For local advocates, is that pretty!',\n",
       " 'In America, unfortunately, there are risks involved.',\n",
       " 'The officers told him to intervene several times since Wednesday’s incident, shows Marissa Morris, 30, of Darlington, confessed in a peaceful march in New York State Health Services said.',\n",
       " 'He resigned from Congress to pass the Senate has confirmed a few of them begs to differ as he mentions policy details.',\n",
       " 'And I believe we’re going to let this woman stood up for it not occur to people in Portland is already half funded.',\n",
       " 'The one federal judge who was serving as pastors.',\n",
       " 'It’s not only because Ryan asked him in the direction the campaign trail only to find stable ground — Trump appealed to Trump.']"
      ]
     },
     "execution_count": 9,
     "metadata": {},
     "output_type": "execute_result"
    }
   ],
   "source": [
    "text_list"
   ]
  },
  {
   "cell_type": "code",
   "execution_count": null,
   "metadata": {},
   "outputs": [],
   "source": [
    "#nltk.download('averaged_perceptron_tagger')"
   ]
  },
  {
   "cell_type": "code",
   "execution_count": null,
   "metadata": {},
   "outputs": [],
   "source": [
    "text_model = markovify.Text(corpus, state_size=3)\n",
    "model_json = text_model.to_json()\n",
    "# In theory, here you'd save the JSON to disk, and then read it back later.\n",
    "\n",
    "reconstituted_model = markovify.Text.from_json(model_json)\n",
    "reconstituted_model.make_short_sentence(140)"
   ]
  },
  {
   "cell_type": "code",
   "execution_count": null,
   "metadata": {},
   "outputs": [],
   "source": []
  }
 ],
 "metadata": {
  "kernelspec": {
   "display_name": "Python 3",
   "language": "python",
   "name": "python3"
  },
  "language_info": {
   "codemirror_mode": {
    "name": "ipython",
    "version": 3
   },
   "file_extension": ".py",
   "mimetype": "text/x-python",
   "name": "python",
   "nbconvert_exporter": "python",
   "pygments_lexer": "ipython3",
   "version": "3.6.5"
  }
 },
 "nbformat": 4,
 "nbformat_minor": 2
}
